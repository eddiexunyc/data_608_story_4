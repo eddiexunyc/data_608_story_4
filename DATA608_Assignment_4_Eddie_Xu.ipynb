{
 "cells": [
  {
   "cell_type": "markdown",
   "metadata": {},
   "source": [
    "# DATA 608 - Assignment 4: How much do we get paid?\n",
    "\n",
    "I have introduced the term \"Data Practitioner\" as a generic job descriptor because we have so many different job role titles for individuals whose work activities overlap including Data Scientist, Data Engineer, Data Analyst, Business Analyst, Data Architect, etc.\n",
    "\n",
    "For this story we will answer the question, \"How much do we get paid?\" Your analysis and data visualizations must address the variation in average salary based on role descriptor and state.\n",
    "\n",
    "Kaggle Link: https://www.kaggle.com/datasets/juanmerinobermejo/data-jobs-dataset/code"
   ]
  },
  {
   "cell_type": "markdown",
   "metadata": {},
   "source": [
    "## Load Dependencies"
   ]
  },
  {
   "cell_type": "code",
   "execution_count": 170,
   "metadata": {},
   "outputs": [],
   "source": [
    "# load dependencies\n",
    "import numpy as np\n",
    "import pandas as pd\n",
    "import matplotlib.pyplot as plt\n",
    "from matplotlib import ticker"
   ]
  },
  {
   "cell_type": "markdown",
   "metadata": {},
   "source": [
    "## Data Loading"
   ]
  },
  {
   "cell_type": "code",
   "execution_count": 150,
   "metadata": {},
   "outputs": [
    {
     "name": "stderr",
     "output_type": "stream",
     "text": [
      "/var/folders/h4/zjq554hs0b57vqfcrc5738wh0000gn/T/ipykernel_95322/2629541512.py:3: FutureWarning: The error_bad_lines argument has been deprecated and will be removed in a future version. Use on_bad_lines in the future.\n",
      "\n",
      "\n",
      "  job_data = pd.read_csv(job_url, encoding = \"utf-16\", error_bad_lines=False).drop(['ID'], axis=1)\n"
     ]
    },
    {
     "data": {
      "text/plain": [
       "Job                  object\n",
       "Jobs_Group           object\n",
       "Profile              object\n",
       "Remote               object\n",
       "Company              object\n",
       "Location             object\n",
       "City                 object\n",
       "State                object\n",
       "Salary               object\n",
       "Frecuency_Salary     object\n",
       "Low_Salary          float64\n",
       "High_Salary         float64\n",
       "Mean_Salary         float64\n",
       "Skills               object\n",
       "dtype: object"
      ]
     },
     "execution_count": 150,
     "metadata": {},
     "output_type": "execute_result"
    }
   ],
   "source": [
    "# load job data pulled from Kaggle's US Data Jobs Salaries Dataset \n",
    "job_url = \"https://raw.githubusercontent.com/eddiexunyc/data_608_story_4/refs/heads/main/Resources/jobs.csv\"\n",
    "job_data = pd.read_csv(job_url, encoding = \"utf-16\", error_bad_lines=False).drop(['ID'], axis=1)\n",
    "\n",
    "# check data type\n",
    "job_data.dtypes"
   ]
  },
  {
   "cell_type": "code",
   "execution_count": 201,
   "metadata": {},
   "outputs": [
    {
     "data": {
      "text/html": [
       "<div>\n",
       "<style scoped>\n",
       "    .dataframe tbody tr th:only-of-type {\n",
       "        vertical-align: middle;\n",
       "    }\n",
       "\n",
       "    .dataframe tbody tr th {\n",
       "        vertical-align: top;\n",
       "    }\n",
       "\n",
       "    .dataframe thead th {\n",
       "        text-align: right;\n",
       "    }\n",
       "</style>\n",
       "<table border=\"1\" class=\"dataframe\">\n",
       "  <thead>\n",
       "    <tr style=\"text-align: right;\">\n",
       "      <th></th>\n",
       "      <th>Job</th>\n",
       "      <th>Jobs_Group</th>\n",
       "      <th>Profile</th>\n",
       "      <th>Remote</th>\n",
       "      <th>Company</th>\n",
       "      <th>Location</th>\n",
       "      <th>City</th>\n",
       "      <th>State</th>\n",
       "      <th>Salary</th>\n",
       "      <th>Frecuency_Salary</th>\n",
       "      <th>Low_Salary</th>\n",
       "      <th>High_Salary</th>\n",
       "      <th>Mean_Salary</th>\n",
       "      <th>Skills</th>\n",
       "    </tr>\n",
       "  </thead>\n",
       "  <tbody>\n",
       "    <tr>\n",
       "      <th>0</th>\n",
       "      <td>Business Analyst</td>\n",
       "      <td>Business Analyst</td>\n",
       "      <td>NaN</td>\n",
       "      <td>NaN</td>\n",
       "      <td>CyberCoders</td>\n",
       "      <td>Torrington, CT 06790</td>\n",
       "      <td>Torrington</td>\n",
       "      <td>CT</td>\n",
       "      <td>$80,000 - $110,000 por año</td>\n",
       "      <td>año</td>\n",
       "      <td>80000.0</td>\n",
       "      <td>110000.0</td>\n",
       "      <td>95000.0</td>\n",
       "      <td>[]</td>\n",
       "    </tr>\n",
       "    <tr>\n",
       "      <th>1</th>\n",
       "      <td>RPA Business Systems Analyst</td>\n",
       "      <td>Business Analyst</td>\n",
       "      <td>NaN</td>\n",
       "      <td>NaN</td>\n",
       "      <td>Amerihealth</td>\n",
       "      <td>Philadelphia, PA 19107 (City Center East area)...</td>\n",
       "      <td>Philadelphia</td>\n",
       "      <td>PA</td>\n",
       "      <td>NaN</td>\n",
       "      <td>NaN</td>\n",
       "      <td>NaN</td>\n",
       "      <td>NaN</td>\n",
       "      <td>NaN</td>\n",
       "      <td>['Office', 'SQL', 'Bachelor']</td>\n",
       "    </tr>\n",
       "    <tr>\n",
       "      <th>2</th>\n",
       "      <td>Quantitive Business Analyst - Strategic Data S...</td>\n",
       "      <td>Business Analyst</td>\n",
       "      <td>NaN</td>\n",
       "      <td>NaN</td>\n",
       "      <td>Apple</td>\n",
       "      <td>Austin, TX+1 location</td>\n",
       "      <td>Austin</td>\n",
       "      <td>TX</td>\n",
       "      <td>NaN</td>\n",
       "      <td>NaN</td>\n",
       "      <td>NaN</td>\n",
       "      <td>NaN</td>\n",
       "      <td>NaN</td>\n",
       "      <td>['Python', 'SQL', 'Bachelor']</td>\n",
       "    </tr>\n",
       "    <tr>\n",
       "      <th>3</th>\n",
       "      <td>Business Line Product Lifecycle Management (PL...</td>\n",
       "      <td>Business Analyst</td>\n",
       "      <td>Junior</td>\n",
       "      <td>NaN</td>\n",
       "      <td>NXP Semiconductors</td>\n",
       "      <td>Austin, TX (West Oak Hill area)</td>\n",
       "      <td>Austin</td>\n",
       "      <td>TX</td>\n",
       "      <td>NaN</td>\n",
       "      <td>NaN</td>\n",
       "      <td>NaN</td>\n",
       "      <td>NaN</td>\n",
       "      <td>NaN</td>\n",
       "      <td>['Bachelor']</td>\n",
       "    </tr>\n",
       "    <tr>\n",
       "      <th>4</th>\n",
       "      <td>Global Markets Operations Asset Services Ops S...</td>\n",
       "      <td>Operations Analyst</td>\n",
       "      <td>Senior</td>\n",
       "      <td>NaN</td>\n",
       "      <td>Bank of America</td>\n",
       "      <td>Jacksonville, FL 32246 (Windy Hill area)+4 loc...</td>\n",
       "      <td>Jacksonville</td>\n",
       "      <td>FL</td>\n",
       "      <td>NaN</td>\n",
       "      <td>NaN</td>\n",
       "      <td>NaN</td>\n",
       "      <td>NaN</td>\n",
       "      <td>NaN</td>\n",
       "      <td>['Excel']</td>\n",
       "    </tr>\n",
       "  </tbody>\n",
       "</table>\n",
       "</div>"
      ],
      "text/plain": [
       "                                                 Job          Jobs_Group  \\\n",
       "0                                   Business Analyst    Business Analyst   \n",
       "1                       RPA Business Systems Analyst    Business Analyst   \n",
       "2  Quantitive Business Analyst - Strategic Data S...    Business Analyst   \n",
       "3  Business Line Product Lifecycle Management (PL...    Business Analyst   \n",
       "4  Global Markets Operations Asset Services Ops S...  Operations Analyst   \n",
       "\n",
       "  Profile Remote             Company  \\\n",
       "0     NaN    NaN         CyberCoders   \n",
       "1     NaN    NaN         Amerihealth   \n",
       "2     NaN    NaN               Apple   \n",
       "3  Junior    NaN  NXP Semiconductors   \n",
       "4  Senior    NaN     Bank of America   \n",
       "\n",
       "                                            Location          City State  \\\n",
       "0                               Torrington, CT 06790    Torrington    CT   \n",
       "1  Philadelphia, PA 19107 (City Center East area)...  Philadelphia    PA   \n",
       "2                              Austin, TX+1 location        Austin    TX   \n",
       "3                    Austin, TX (West Oak Hill area)        Austin    TX   \n",
       "4  Jacksonville, FL 32246 (Windy Hill area)+4 loc...  Jacksonville    FL   \n",
       "\n",
       "                       Salary Frecuency_Salary  Low_Salary  High_Salary  \\\n",
       "0  $80,000 - $110,000 por año              año     80000.0     110000.0   \n",
       "1                         NaN              NaN         NaN          NaN   \n",
       "2                         NaN              NaN         NaN          NaN   \n",
       "3                         NaN              NaN         NaN          NaN   \n",
       "4                         NaN              NaN         NaN          NaN   \n",
       "\n",
       "   Mean_Salary                         Skills  \n",
       "0      95000.0                             []  \n",
       "1          NaN  ['Office', 'SQL', 'Bachelor']  \n",
       "2          NaN  ['Python', 'SQL', 'Bachelor']  \n",
       "3          NaN                   ['Bachelor']  \n",
       "4          NaN                      ['Excel']  "
      ]
     },
     "execution_count": 201,
     "metadata": {},
     "output_type": "execute_result"
    }
   ],
   "source": [
    "# remove Virgin Island and Guams since they are not realy US states\n",
    "location_remove = ['GU', 'VI', 'PR']\n",
    "# job_data = job_data.loc[job_data['State'] != 'GU']\n",
    "job_data = job_data[~job_data['State'].isin(location_remove)]\n",
    "\n",
    "job_data.head()"
   ]
  },
  {
   "cell_type": "markdown",
   "metadata": {},
   "source": [
    "## Data Wrangling"
   ]
  },
  {
   "cell_type": "code",
   "execution_count": 202,
   "metadata": {},
   "outputs": [],
   "source": [
    "#List of states\n",
    "abbrev2state = {'AK': 'Alaska',\n",
    "                'AL': 'Alabama',\n",
    "                'AR': 'Arkansas',\n",
    "                'AZ': 'Arizona',\n",
    "                'CA': 'California',\n",
    "                'CO': 'Colorado',\n",
    "                'CT': 'Connecticut',\n",
    "                'DC': 'District of Columbia',\n",
    "                'DE': 'Delaware',\n",
    "                'FL': 'Florida',\n",
    "                'GA': 'Georgia',\n",
    "                'HI': 'Hawaii',\n",
    "                'IA': 'Iowa',\n",
    "                'ID': 'Idaho',\n",
    "                'IL': 'Illinois',\n",
    "                'IN': 'Indiana',\n",
    "                'KS': 'Kansas',\n",
    "                'KY': 'Kentucky',\n",
    "                'LA': 'Louisiana',\n",
    "                'MA': 'Massachusetts',\n",
    "                'MD': 'Maryland',\n",
    "                'ME': 'Maine',\n",
    "                'MI': 'Michigan',\n",
    "                'MN': 'Minnesota',\n",
    "                'MO': 'Missouri',\n",
    "                'MS': 'Mississippi',\n",
    "                'MT': 'Montana',\n",
    "                'NC': 'North Carolina',\n",
    "                'ND': 'North Dakota',\n",
    "                'NE': 'Nebraska',\n",
    "                'NH': 'New Hampshire',\n",
    "                'NJ': 'New Jersey',\n",
    "                'NM': 'New Mexico',\n",
    "                'NV': 'Nevada',\n",
    "                'NY': 'New York',\n",
    "                'OH': 'Ohio',\n",
    "                'OK': 'Oklahoma',\n",
    "                'OR': 'Oregon',\n",
    "                'PA': 'Pennsylvania',\n",
    "                'RI': 'Rhode Island',\n",
    "                'SC': 'South Carolina',\n",
    "                'SD': 'South Dakota',\n",
    "                'TN': 'Tennessee',\n",
    "                'TX': 'Texas',\n",
    "                'UT': 'Utah',\n",
    "                'VA': 'Virginia',\n",
    "                'VT': 'Vermont',\n",
    "                'WA': 'Washington',\n",
    "                'WI': 'Wisconsin',\n",
    "                'WV': 'West Virginia',\n",
    "                'WY': 'Wyoming'}"
   ]
  },
  {
   "cell_type": "markdown",
   "metadata": {},
   "source": [
    "The dictionary of state names is needed for the state name replacement. After reviewing the data set, it appears that there are certain job that does not fit the data practitioner roles. So they need to be removed/filtered."
   ]
  },
  {
   "cell_type": "code",
   "execution_count": 203,
   "metadata": {},
   "outputs": [
    {
     "data": {
      "text/html": [
       "<div>\n",
       "<style scoped>\n",
       "    .dataframe tbody tr th:only-of-type {\n",
       "        vertical-align: middle;\n",
       "    }\n",
       "\n",
       "    .dataframe tbody tr th {\n",
       "        vertical-align: top;\n",
       "    }\n",
       "\n",
       "    .dataframe thead th {\n",
       "        text-align: right;\n",
       "    }\n",
       "</style>\n",
       "<table border=\"1\" class=\"dataframe\">\n",
       "  <thead>\n",
       "    <tr style=\"text-align: right;\">\n",
       "      <th></th>\n",
       "      <th>State</th>\n",
       "      <th>Jobs_Group</th>\n",
       "      <th>Low_Salary</th>\n",
       "      <th>Mean_Salary</th>\n",
       "      <th>High_Salary</th>\n",
       "    </tr>\n",
       "  </thead>\n",
       "  <tbody>\n",
       "    <tr>\n",
       "      <th>0</th>\n",
       "      <td>Alabama</td>\n",
       "      <td>Analyst</td>\n",
       "      <td>67421.00</td>\n",
       "      <td>76463.86</td>\n",
       "      <td>85506.71</td>\n",
       "    </tr>\n",
       "    <tr>\n",
       "      <th>1</th>\n",
       "      <td>Alabama</td>\n",
       "      <td>Business Analyst</td>\n",
       "      <td>84074.55</td>\n",
       "      <td>95847.65</td>\n",
       "      <td>107620.75</td>\n",
       "    </tr>\n",
       "    <tr>\n",
       "      <th>2</th>\n",
       "      <td>Alabama</td>\n",
       "      <td>Business Intelligence</td>\n",
       "      <td>65920.00</td>\n",
       "      <td>68312.00</td>\n",
       "      <td>70704.00</td>\n",
       "    </tr>\n",
       "    <tr>\n",
       "      <th>3</th>\n",
       "      <td>Alabama</td>\n",
       "      <td>Data Analyst</td>\n",
       "      <td>66954.37</td>\n",
       "      <td>78748.95</td>\n",
       "      <td>90543.53</td>\n",
       "    </tr>\n",
       "    <tr>\n",
       "      <th>4</th>\n",
       "      <td>Alabama</td>\n",
       "      <td>Data Engineer</td>\n",
       "      <td>167191.40</td>\n",
       "      <td>183589.30</td>\n",
       "      <td>199987.20</td>\n",
       "    </tr>\n",
       "  </tbody>\n",
       "</table>\n",
       "</div>"
      ],
      "text/plain": [
       "     State             Jobs_Group  Low_Salary  Mean_Salary  High_Salary\n",
       "0  Alabama                Analyst    67421.00     76463.86     85506.71\n",
       "1  Alabama       Business Analyst    84074.55     95847.65    107620.75\n",
       "2  Alabama  Business Intelligence    65920.00     68312.00     70704.00\n",
       "3  Alabama           Data Analyst    66954.37     78748.95     90543.53\n",
       "4  Alabama          Data Engineer   167191.40    183589.30    199987.20"
      ]
     },
     "execution_count": 203,
     "metadata": {},
     "output_type": "execute_result"
    }
   ],
   "source": [
    "# find out distinct job groups in the dataframe\n",
    "unique_job_group_set = set(job_data['Jobs_Group'])\n",
    "to_remove = ['Others', 'Controller', 'CFO', 'Statistician/Mathemathics', 'Finance']\n",
    "data_practitioner_jobs_set = [x for x in unique_job_group_set if x not in to_remove]\n",
    "\n",
    "# filter out other job groups that are not in data practitioners list\n",
    "job_filtered_data = job_data[job_data['Jobs_Group'].isin(data_practitioner_jobs_set)]\n",
    "\n",
    "# drop the frequency salary column\n",
    "job_filtered_data = job_filtered_data.drop(['Frecuency_Salary'], axis=1)\n",
    "\n",
    "# filter out missing salary and jobs with remote location\n",
    "# add a new column with the state full name\n",
    "job_filtered_data = job_filtered_data[job_filtered_data['Salary'].notnull()]\n",
    "job_filtered_data = job_filtered_data[job_filtered_data['Remote'] != 'Remote']\n",
    "job_filtered_data['State'] = job_filtered_data['State'].replace(abbrev2state) \n",
    "\n",
    "# calculate the mean salary sum group by state and jobs group\n",
    "job_state_salary_data_average = round(job_filtered_data.groupby(['State', 'Jobs_Group'])['Mean_Salary'].mean(),2)\n",
    "job_state_salary_data_mean = round(job_filtered_data.groupby(['State', 'Jobs_Group'])['Mean_Salary'].mean().reset_index(),2)\n",
    "job_state_salary_data_low = round(job_filtered_data.groupby(['State', 'Jobs_Group'])['Low_Salary'].mean().reset_index(),2)\n",
    "job_state_salary_data_high = round(job_filtered_data.groupby(['State', 'Jobs_Group'])['High_Salary'].mean().reset_index(),2)\n",
    "\n",
    "# combine all data into one dataframe and pivot from long to wide format dataset\n",
    "job_state_combined_data = pd.merge(job_state_salary_data_low, job_state_salary_data_mean, on = ['State', 'Jobs_Group'], how = 'left')\n",
    "job_state_combined_data = pd.merge(job_state_combined_data, job_state_salary_data_high, on = ['State', 'Jobs_Group'], how = 'left')\n",
    "job_state_combined_data.head()"
   ]
  },
  {
   "cell_type": "markdown",
   "metadata": {},
   "source": [
    "## Data Visualization"
   ]
  },
  {
   "cell_type": "markdown",
   "metadata": {},
   "source": [
    "The term 'Data Practitioners' is growing in popularity in recent decades. Many companies across America offer to pay a decent salary for job positions under that term. As shown below, District of Columbias offer highest salary overall for data practitioner jobs, followed by California and Washington. It appears that both Business and Data Analysts are most popular data practitioner titles as they are being offered in every states. "
   ]
  },
  {
   "cell_type": "code",
   "execution_count": 214,
   "metadata": {},
   "outputs": [
    {
     "data": {
      "image/png": "[encoded data removed]",
      "text/plain": [
       "<Figure size 640x480 with 1 Axes>"
      ]
     },
     "metadata": {},
     "output_type": "display_data"
    },
    {
     "data": {
      "text/plain": [
       "<Figure size 3000x1500 with 0 Axes>"
      ]
     },
     "metadata": {},
     "output_type": "display_data"
    }
   ],
   "source": [
    "# get the total sum index and apply to the dataframe so the bar plot can be sorted by the total sum\n",
    "job_sort = job_state_salary_data_average.groupby(level=[0]).sum().sort_values(ascending=True)\n",
    "\n",
    "# job_state_salary_data_mean.reindex(index=job_sort.index, level=0).unstack().plot.bar(stacked=True)\n",
    "sorted_job_state_salary_data = job_state_salary_data_average.reindex(index=job_sort.index, level=0).unstack()\n",
    "\n",
    "# stacked bar plot\n",
    "fig, ax = plt.subplots()\n",
    "sorted_job_state_salary_data.plot(kind = 'barh', stacked = True, width = 0.8, color=plt.cm.Set3(np.arange(len('Job_Group'))), ax = ax)\n",
    "plt.title('Average Salary of Data Practitioners Across States', size = 15)\n",
    "plt.legend(bbox_to_anchor=(1.05, 1.0), fontsize = '8', loc='upper left')\n",
    "plt.figure(figsize=(30, 15))\n",
    "\n",
    "# customize both x and y labels\n",
    "ax.set_xlabel('State', size = 12)\n",
    "ax.set_ylabel('Average Salary', size = 12)\n",
    "plt.setp(ax.yaxis.get_majorticklabels(), size = 6)\n",
    "ax.xaxis.get_major_formatter().set_scientific(False)\n",
    "ax.xaxis.get_major_formatter().set_useOffset(False)\n",
    "\n",
    "# show plot\n",
    "plt.show()"
   ]
  }
 ],
 "metadata": {
  "kernelspec": {
   "display_name": "base",
   "language": "python",
   "name": "python3"
  },
  "language_info": {
   "codemirror_mode": {
    "name": "ipython",
    "version": 3
   },
   "file_extension": ".py",
   "mimetype": "text/x-python",
   "name": "python",
   "nbconvert_exporter": "python",
   "pygments_lexer": "ipython3",
   "version": "3.9.13"
  }
 },
 "nbformat": 4,
 "nbformat_minor": 2
}
